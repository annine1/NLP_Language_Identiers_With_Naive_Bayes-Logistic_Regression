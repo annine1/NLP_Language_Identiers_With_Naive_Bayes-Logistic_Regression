{
  "cells": [
    {
      "cell_type": "markdown",
      "metadata": {
        "id": "view-in-github",
        "colab_type": "text"
      },
      "source": [
        "<a href=\"https://colab.research.google.com/github/annine1/NLP_Language_Naive_Bayes-and-Logistic_Regression/blob/main/Annine_Duclaire_Kenne_intro_to_wordvectors.ipynb\" target=\"_parent\"><img src=\"https://colab.research.google.com/assets/colab-badge.svg\" alt=\"Open In Colab\"/></a>"
      ]
    },
    {
      "cell_type": "markdown",
      "metadata": {
        "id": "OCnt0OBtQ6K6"
      },
      "source": [
        "\n",
        "<h1 style=\"font-family:verdana;font-size:300%;text-align:center;background-color:#f2f2f2;color:#0d0d0d\">AMMI NLP - Review sessions</h1>\n",
        "\n",
        "<h1 style=\"font-family:verdana;font-size:180%;text-align:Center;color:#993333\"> Lab 2: Introduction to wordvectors </h1>"
      ]
    },
    {
      "cell_type": "markdown",
      "metadata": {
        "id": "A9n45YZAQ6K8"
      },
      "source": [
        "**Big thanks to Amr Khalifa who improved this lab and made it to a Jupyter Notebook!**"
      ]
    },
    {
      "cell_type": "code",
      "execution_count": 1,
      "metadata": {
        "id": "QhMVxFGJQ6K8"
      },
      "outputs": [],
      "source": [
        "import io, sys\n",
        "import numpy as np"
      ]
    },
    {
      "cell_type": "code",
      "execution_count": 2,
      "metadata": {
        "id": "brz9aRI2Q6K9"
      },
      "outputs": [],
      "source": [
        "def load_vectors(filename):\n",
        "    fin = io.open(filename, 'r', encoding='utf-8', newline='\\n')\n",
        "    n, d = map(int, fin.readline().split())\n",
        "    data = {}\n",
        "    for line in fin:\n",
        "        tokens = line.rstrip().split(' ')\n",
        "        data[tokens[0]] = np.asarray([float(x) for x in tokens[1:]])\n",
        "    return data"
      ]
    },
    {
      "cell_type": "code",
      "execution_count": 3,
      "metadata": {
        "colab": {
          "base_uri": "https://localhost:8080/"
        },
        "id": "CTqgehScQ6K9",
        "outputId": "0e8a338d-8c13-4aac-9be3-15a93c71cef7"
      },
      "outputs": [
        {
          "output_type": "stream",
          "name": "stdout",
          "text": [
            "\n",
            " ** Word vectors ** \n",
            "\n",
            "<class 'numpy.ndarray'> 300\n"
          ]
        }
      ],
      "source": [
        "# Loading word vectors\n",
        "\n",
        "print('')\n",
        "print(' ** Word vectors ** ')\n",
        "print('')\n",
        "\n",
        "'''\n",
        "word_vectors is a dictionary that maps words to their numerical word vector\n",
        "[word (string)] = [np-array] \n",
        "'''\n",
        "word_vectors = load_vectors('/content/drive/MyDrive/NLP/Week1/Session2/wiki.en.vec')\n",
        "\n",
        "tree_vector = word_vectors['tree']\n",
        "print(type(tree_vector), len(tree_vector))\n"
      ]
    },
    {
      "cell_type": "code",
      "source": [
        "print(word_vectors['tree'])"
      ],
      "metadata": {
        "colab": {
          "base_uri": "https://localhost:8080/"
        },
        "id": "mXppJ2vv4yto",
        "outputId": "01f97d98-bd22-4c56-a36f-9249f8e29f21"
      },
      "execution_count": 4,
      "outputs": [
        {
          "output_type": "stream",
          "name": "stdout",
          "text": [
            "[-0.39784    0.054416   0.21823    0.39507    0.092681  -0.023061\n",
            "  0.37008   -0.64496    0.3227    -0.032656   0.36157   -0.09288\n",
            "  0.061203   0.22114    0.051044  -0.17904    0.24627    0.27385\n",
            "  0.22722    0.406     -0.014682   0.10351   -0.51104    0.019572\n",
            " -0.057841  -0.16893    0.096886  -0.18702   -0.12943   -0.6119\n",
            " -0.27579    0.36402    0.20499    0.099865   0.080926  -0.013058\n",
            "  0.24712    0.27284   -0.022597   0.16511    0.12329    0.0063245\n",
            " -0.30938   -0.2052     0.075066   0.55976   -0.046072  -0.24232\n",
            "  0.076304  -0.19305   -0.046893   0.17447   -0.29613   -0.0091035\n",
            "  0.45577    0.62522   -0.21809   -0.079472   0.35758    0.52445\n",
            " -0.063457  -0.45847    0.1742    -0.11709    0.029591  -0.16949\n",
            "  0.27293   -0.056522   0.012239   0.473     -0.088194  -0.047084\n",
            "  0.30997   -0.46366    0.044899   0.017134   0.43833    0.1972\n",
            " -0.15461   -0.086679  -0.1268    -0.047868  -0.086764  -0.13257\n",
            " -0.10754    0.041026   0.14707    0.2428     0.017882   0.31355\n",
            "  0.26011   -0.14163   -0.20247   -0.44918    0.038273  -0.11636\n",
            " -0.16899   -0.057229   0.01725   -0.28792    0.22602   -0.11952\n",
            " -0.033126  -0.27466    0.022356   0.10287   -0.47418    0.47209\n",
            " -0.10983    0.020418   0.20297   -0.22999   -0.15278    0.050411\n",
            "  0.22013   -0.41752    0.13351    0.058916  -0.069125   0.27321\n",
            "  0.23556    0.44628    0.10644    0.45155    0.082728   0.1467\n",
            " -0.087843   0.29509   -0.021581   0.059069  -0.27587    0.35095\n",
            " -0.23893    0.066035   0.06379    0.22035   -0.33606   -0.20283\n",
            " -0.30568   -0.20014    0.4622     0.15255    0.36056   -0.13891\n",
            "  0.092259   0.17772   -0.1358    -0.012314  -0.32808    0.065039\n",
            "  0.098637  -0.37838   -0.041142   0.16198   -0.13477   -0.12069\n",
            "  0.0047291 -0.13529    0.2508     0.23812    0.36012   -0.10374\n",
            " -0.20955   -0.25071    0.043354  -0.28728   -0.022019   0.0052659\n",
            "  0.17327   -0.031052  -0.43724   -0.28445   -0.36696   -0.17373\n",
            " -0.19299    0.034878  -0.20619    0.054509   0.11647   -0.05072\n",
            "  0.21144    0.37915    0.023458  -0.28979    0.14393   -0.32599\n",
            " -0.30203    0.28224    0.29829   -0.12661    0.32949   -0.11792\n",
            "  0.31457    0.62926   -0.025632  -0.176     -0.1362    -0.30017\n",
            " -0.48829   -0.092524   0.030552   0.094078   0.30893    0.33937\n",
            " -0.1489    -0.4968    -0.40913   -0.024378   0.32504   -0.16921\n",
            "  0.14217    0.18856    0.061215   0.0073872  0.1163    -0.34951\n",
            "  0.027877  -0.3165    -0.28568   -0.22626   -0.27569   -0.025951\n",
            " -0.48071    0.22859   -0.010644   0.035062   0.067583   0.036422\n",
            "  0.090386  -0.29189   -0.080885   0.26875   -0.033764   0.091138\n",
            "  0.15499   -0.39699   -0.38301    0.10783    0.047674   0.33924\n",
            " -0.045956   0.053329   0.063712  -0.31844    0.30207    0.032281\n",
            " -0.23562   -0.52411    0.14581    0.13989    0.086551  -0.35384\n",
            "  0.25498   -0.1143     0.24687    0.12365    0.093008   0.12685\n",
            "  0.1339     0.16188    0.054554   0.25037   -0.06566   -0.12869\n",
            " -0.093031  -0.13151   -0.2464    -0.15723    0.23353   -0.20434\n",
            " -0.29663   -0.27974    0.44967   -0.12316   -0.088075  -0.70221\n",
            " -0.1246    -0.37113    0.17108    0.57219    0.38216    0.27854\n",
            " -0.23272   -0.34585    0.2447    -0.034946  -0.15407   -0.27374\n",
            "  0.12633   -0.38436   -0.21041   -0.10244    0.19948   -0.25719\n",
            " -0.21997   -0.030813  -0.41369    0.35552    0.31405   -0.10829  ]\n"
          ]
        }
      ]
    },
    {
      "cell_type": "markdown",
      "source": [
        "The cosinus similarity is given by the following equation:\n",
        "$cos(u,v) = \\frac{u.v}{||u||.||v||} = \\frac{\\sum_{i}^{n}u_i\n",
        "*v_i}{\\sqrt{{\\sum_{i}^{n}u_i^2}}*\\sqrt{{\\sum_{i}^{n}v_i^2}}}$\n",
        "\n",
        "- **cos(u,v) = 1**  when u and v lie on the same line and have the same direction.\n",
        "- **cos(u,v) = -1** when they have exactly opposite directions.\n",
        "- **cos(u,v) = 0** when the vectors are orthogonal (perpendicular) to each other."
      ],
      "metadata": {
        "id": "VatI-HS0VbAX"
      }
    },
    {
      "cell_type": "code",
      "execution_count": 5,
      "metadata": {
        "id": "a0yemqMaQ6K-"
      },
      "outputs": [],
      "source": [
        "## This function computes the cosine similarity between vectors u and v\n",
        "\n",
        "def cosine(u, v):\n",
        "    '''\n",
        "    Parameters:\n",
        "    u : 1-D numpy array\n",
        "    v : 1-D numpy array \n",
        "    \n",
        "    Returns:\n",
        "    cos (float) : value of the cosine similairy between vectors u, v \n",
        "    '''\n",
        "\n",
        "    ## FILL CODE\n",
        "    # print(type(u), type(v))\n",
        "\n",
        "    a = np.dot(u, v)\n",
        "    eucl_norm_u = np.linalg.norm(u)\n",
        "    eucl_norm_v = np.linalg.norm(v)\n",
        "    b = eucl_norm_u * eucl_norm_v\n",
        "    cos = a / b\n",
        "    \n",
        "    return cos \n"
      ]
    },
    {
      "cell_type": "code",
      "execution_count": 6,
      "metadata": {
        "colab": {
          "base_uri": "https://localhost:8080/"
        },
        "id": "q9aWNvY9Q6K-",
        "outputId": "af63247c-c154-443e-e262-ecc6dd2dedf3"
      },
      "outputs": [
        {
          "output_type": "stream",
          "name": "stdout",
          "text": [
            "similarity(apple, apples) = 0.637\n",
            "similarity(apple, banana) = 0.431\n",
            "similarity(apple, tiger) = 0.212\n"
          ]
        }
      ],
      "source": [
        "# compute similarity between words\n",
        "\n",
        "print('similarity(apple, apples) = %.3f' %\n",
        "      cosine(word_vectors['apple'], word_vectors['apples']))\n",
        "print('similarity(apple, banana) = %.3f' %\n",
        "      cosine(word_vectors['apple'], word_vectors['banana']))\n",
        "print('similarity(apple, tiger) = %.3f' %\n",
        "      cosine(word_vectors['apple'], word_vectors['tiger']))"
      ]
    },
    {
      "cell_type": "code",
      "execution_count": 7,
      "metadata": {
        "id": "QTFYTtwHQ6K-"
      },
      "outputs": [],
      "source": [
        "## Functions for nearest neighbor\n",
        "## This function returns the word corresponding to \n",
        "## nearest neighbor vector of x\n",
        "## The list exclude_words can be used to exclude some\n",
        "## words from the nearest neighbors search\n",
        "\n",
        "def nearest_neighbor(x, word_vectors, exclude_words=[]):\n",
        "    '''\n",
        "    Parameters:\n",
        "    x (string): word to find its nearest neighbour \n",
        "    word_vectors (Python dict): {word (string): np-array of word vector}\n",
        "    exclude_words (list of strings): words to be excluded from the search\n",
        "    \n",
        "    Returns:\n",
        "    best_word (string) : the word whose word vector is the nearest neighbour \n",
        "    to the word vector of x\n",
        "    '''\n",
        "    best_score = -1.0\n",
        "    best_word = None\n",
        "    score = 0.0\n",
        "\n",
        "    ## FILL CODE\n",
        "    similarity_list = []\n",
        "    exclude_words = []\n",
        "    #  for each vector in word_vec\n",
        "    for vec in word_vectors:      \n",
        "      if vec=='cat':\n",
        "        exclude_words.append(vec)\n",
        "      elif vec=='cats':\n",
        "        exclude_words.append(vec)\n",
        "      \n",
        "      else:\n",
        "\n",
        "        cos_similarity = cosine(x, word_vectors[vec])\n",
        "\n",
        "        similarity_list.append(cos_similarity)\n",
        "\n",
        "        # sort the similarity list and get the indices of the sorted list\n",
        "        idx_sorted_similarity = np.argsort(similarity_list)\n",
        "\n",
        "        # indices of the last most similate vec in word_vectors\n",
        "        idx_most_sim_vec = idx_sorted_similarity[-1:]\n",
        "        # print(idx_most_sim_vec)\n",
        "        neighbors = similarity_list[idx_most_sim_vec[0]]\n",
        "\n",
        "        score = neighbors\n",
        "        if score > best_score:\n",
        "          best_score = score\n",
        "          best_word = vec\n",
        "\n",
        "      \n",
        "\n",
        "\n",
        "            \n",
        "    return best_word"
      ]
    },
    {
      "cell_type": "code",
      "execution_count": 8,
      "metadata": {
        "colab": {
          "base_uri": "https://localhost:8080/"
        },
        "id": "Co_bsCmrQ6K_",
        "outputId": "49e7926a-4029-4aec-eaca-b48f05687c9f"
      },
      "outputs": [
        {
          "output_type": "stream",
          "name": "stdout",
          "text": [
            "\n",
            "The nearest neighbor of cat is: dog\n"
          ]
        }
      ],
      "source": [
        "print('')\n",
        "print('The nearest neighbor of cat is: ' +\n",
        "      nearest_neighbor(word_vectors['cat'], word_vectors, exclude_words = ['cat', 'cats']))"
      ]
    },
    {
      "cell_type": "code",
      "source": [
        "l =np.array([3,0,1])\n",
        "l_=np.argsort(l)\n",
        "print(l_)\n",
        "idx=l_[:]\n",
        "print(idx)\n",
        "print(l[idx])"
      ],
      "metadata": {
        "colab": {
          "base_uri": "https://localhost:8080/"
        },
        "id": "SRTFlVjyuG7d",
        "outputId": "fa174d16-4980-4820-f880-c16ef5f180ae"
      },
      "execution_count": 9,
      "outputs": [
        {
          "output_type": "stream",
          "name": "stdout",
          "text": [
            "[1 2 0]\n",
            "[1 2 0]\n",
            "[0 1 3]\n"
          ]
        }
      ]
    },
    {
      "cell_type": "markdown",
      "metadata": {
        "id": "-hTQ-ZXFQ6K_"
      },
      "source": [
        "#### Hint (using python priorty queues with the heapq datastructure): \n",
        "if you don't want to store all the words and scores you can use the priortiy queue and only store the best K element so far. "
      ]
    },
    {
      "cell_type": "markdown",
      "source": [
        "**Knn Goal**:\n",
        "- The **k-Nearest** neighbors algorithm is a method which takes a vector as input and finds the other vectors in the dataset that are closest to it.\n",
        "- The 'k' is the number of \"nearest neighbors\" to find (e.g. k=2 finds the closest two neighbors)."
      ],
      "metadata": {
        "id": "bvnhUeEco7cp"
      }
    },
    {
      "cell_type": "code",
      "execution_count": 10,
      "metadata": {
        "id": "RPbWnkebQ6K_"
      },
      "outputs": [],
      "source": [
        "\n",
        "## This function return the words corresponding to the\n",
        "## K nearest neighbors of vector x.\n",
        "## You can use the functions heappush and heappop.\n",
        "\n",
        "def knn(x, vectors, k):\n",
        "    '''\n",
        "    Parameters:\n",
        "    x (string): word to find its nearest neighbour \n",
        "    word_vectors (Python dict): {word (string): np-array of word vector}\n",
        "    k (int): number of nearest neighbours to be found\n",
        "    \n",
        "    Returns: \n",
        "    k_nearest_neighbors (list of tuples): [(score, word), (score, word), ....]\n",
        "    '''\n",
        "\n",
        "    similarity_list = []\n",
        "    words = []\n",
        "    exclude_words = []\n",
        "    ## FILL CODE\n",
        "    #  for each vector in word_vec\n",
        "    for vec in vectors:\n",
        "      if vec=='cat':\n",
        "        exclude_words.append(vec)\n",
        "      elif vec=='cats':\n",
        "        exclude_words.append(vec)\n",
        "      \n",
        "      else:\n",
        "        cos_similarity = cosine(x, vectors[vec])\n",
        "        # print(cos_similarity)\n",
        "        similarity_list.append(cos_similarity)\n",
        "        words.append(vec)\n",
        "\n",
        "        # sort the similarity list and get the indices of the sorted list\n",
        "        idx_sorted_similarity = np.argsort(similarity_list)\n",
        "\n",
        "        # indices of the k most similate vec in word_vectors\n",
        "        idx_k_most_sim_vec = idx_sorted_similarity[-k:]\n",
        "\n",
        "\n",
        "    # list of k-nearest neighbors\n",
        "    k_nearest_neighbors = []\n",
        "    for i in idx_k_most_sim_vec:\n",
        "       k_nearest_neighbors.append((similarity_list[i], words[i]))\n",
        "    return k_nearest_neighbors"
      ]
    },
    {
      "cell_type": "code",
      "source": [
        "knn_cat = knn(word_vectors['cat'], word_vectors, 5)\n",
        "knn_cat"
      ],
      "metadata": {
        "colab": {
          "base_uri": "https://localhost:8080/"
        },
        "id": "h_bQRamRCgtc",
        "outputId": "d5be9f49-5192-4369-9a63-4541bb275443"
      },
      "execution_count": 11,
      "outputs": [
        {
          "output_type": "execute_result",
          "data": {
            "text/plain": [
              "[(0.458395310030411, 'pig'),\n",
              " (0.5381171978114956, 'dogs'),\n",
              " (0.548941402928511, 'rabbit'),\n",
              " (0.5725849995167527, 'pet'),\n",
              " (0.6380517245741391, 'dog')]"
            ]
          },
          "metadata": {},
          "execution_count": 11
        }
      ]
    },
    {
      "cell_type": "code",
      "execution_count": 12,
      "metadata": {
        "colab": {
          "base_uri": "https://localhost:8080/"
        },
        "id": "xsc2S3xeQ6LA",
        "outputId": "71c672fd-c9a7-4335-9730-9d4d668bc7dd"
      },
      "outputs": [
        {
          "output_type": "stream",
          "name": "stdout",
          "text": [
            "\n",
            "cat\n",
            "--------------\n",
            "pig\t0.458\n",
            "dogs\t0.538\n",
            "rabbit\t0.549\n",
            "pet\t0.573\n",
            "dog\t0.638\n"
          ]
        }
      ],
      "source": [
        "knn_cat = knn(word_vectors['cat'], word_vectors, 5)\n",
        "print('')\n",
        "print('cat')\n",
        "print('--------------')\n",
        "for score, word in knn(word_vectors['cat'], word_vectors, 5):\n",
        "    print (word + '\\t%.3f' % score)\n"
      ]
    },
    {
      "cell_type": "markdown",
      "metadata": {
        "id": "xpOo77aDQ6LA"
      },
      "source": [
        "#### Hint: \n",
        "To find the analogies, we find the nearest neighbour associated with the wordvector d\n",
        "$$ d = \\frac{c}{\\Vert {c} \\Vert} + \\frac{b}{\\Vert {b} \\Vert} - \\frac{a}{\\Vert {a} \\Vert}$$\n"
      ]
    },
    {
      "cell_type": "code",
      "execution_count": 13,
      "metadata": {
        "id": "_wkaGwI8Q6LA"
      },
      "outputs": [],
      "source": [
        "## This function return the words d, such that a:b and c:d\n",
        "## verifies the same relation\n",
        "\n",
        "def analogy(a, b, c, word_vectors):\n",
        "    '''\n",
        "    Parameters:\n",
        "    a (string): word a\n",
        "    b (string): word b\n",
        "    c (string): word c\n",
        "    word_vectors (Python dict): {word (string): np-array of word vector}\n",
        "    \n",
        "    Returnrs: \n",
        "    the word d (string) associated with c such that c:d is similar to a:b \n",
        "    \n",
        "    '''\n",
        "    \n",
        "    ## FILL CODE\n",
        "    term1 = word_vectors[c] / (np.linalg.norm(word_vectors[c]))\n",
        "    term2 = word_vectors[b] / (np.linalg.norm(word_vectors[b]))\n",
        "    term3 = word_vectors[a] / (np.linalg.norm(word_vectors[a]))\n",
        "    d1 = term1 + term2 - term3\n",
        "    d = knn(d1, word_vectors, k=1)\n",
        "    print(d)\n",
        "\n",
        "\n",
        "    return d[0][1]"
      ]
    },
    {
      "cell_type": "code",
      "execution_count": 14,
      "metadata": {
        "id": "1hdEg3ZMQ6LA",
        "colab": {
          "base_uri": "https://localhost:8080/"
        },
        "outputId": "ed4e4527-e71f-4899-c78b-77fa53094a51"
      },
      "outputs": [
        {
          "output_type": "stream",
          "name": "stdout",
          "text": [
            "\n",
            "[(0.7664637139191509, 'italy')]\n",
            "france - paris + rome = italy\n"
          ]
        }
      ],
      "source": [
        "# Word analogies\n",
        "\n",
        "print('')\n",
        "print('france - paris + rome = ' + analogy('paris', 'france', 'rome', word_vectors))"
      ]
    },
    {
      "cell_type": "markdown",
      "metadata": {
        "id": "qZDiFvcVQ6LA"
      },
      "source": [
        "## A word about biases in word vectors"
      ]
    },
    {
      "cell_type": "code",
      "execution_count": 15,
      "metadata": {
        "id": "gm86brVPQ6LA",
        "colab": {
          "base_uri": "https://localhost:8080/"
        },
        "outputId": "1ec8de4f-0597-4336-8c9b-af23453eb7b0"
      },
      "outputs": [
        {
          "output_type": "stream",
          "name": "stdout",
          "text": [
            "\n",
            "similarity(genius, man) = 0.445\n",
            "similarity(genius, woman) = 0.325\n"
          ]
        }
      ],
      "source": [
        "## A word about biases in word vectors:\n",
        "\n",
        "print('')\n",
        "print('similarity(genius, man) = %.3f' %\n",
        "      cosine(word_vectors['man'], word_vectors['genius']))\n",
        "print('similarity(genius, woman) = %.3f' %\n",
        "      cosine(word_vectors['woman'], word_vectors['genius']))"
      ]
    },
    {
      "cell_type": "code",
      "execution_count": 16,
      "metadata": {
        "id": "MZ0rMQCCQ6LA"
      },
      "outputs": [],
      "source": [
        "## Compute the association strength between:\n",
        "##   - a word w\n",
        "##   - two sets of attributes A and B\n",
        "\n",
        "def association_strength(w, A, B, vectors):\n",
        "    '''\n",
        "    Parameters:\n",
        "    w (string): word w\n",
        "    A (list of strings): The words belonging to set A\n",
        "    B (list of strings): The words belonging to set B\n",
        "    vectors (Python dict): {word (string): np-array of word vector}\n",
        "    \n",
        "    Returnrs: \n",
        "    strength (float): the value of the association strength \n",
        "    '''\n",
        "    \n",
        "    strength = 0.0\n",
        "    # part_a = 0.0\n",
        "    # part_b = 0.0 \n",
        "    sum_A = 0.0\n",
        "    sum_B = 0.0\n",
        "    \n",
        "    ## FILL CODE\n",
        "    for i in A:\n",
        "      sum_A += (1/len(A))*cosine(vectors[w], vectors[i])\n",
        "    \n",
        "    for j in B:\n",
        "      sum_B += (1/len(B))*cosine(vectors[w], vectors[j])\n",
        "     \n",
        "    strength = sum_A - sum_B\n",
        "\n",
        "\n",
        "    return strength"
      ]
    },
    {
      "cell_type": "code",
      "execution_count": 17,
      "metadata": {
        "id": "erRQ4GIfQ6LA"
      },
      "outputs": [],
      "source": [
        "## Perform the word embedding association test between:\n",
        "##   - two sets of words X and Y\n",
        "##   - two sets of attributes A and B\n",
        "\n",
        "def weat(X, Y, A, B, vectors):\n",
        "    '''\n",
        "    Parameters:\n",
        "    X (list of strings): The words belonging to set X\n",
        "    Y (list of strings): The words belonging to set Y\n",
        "    A (list of strings): The words belonging to set A\n",
        "    B (list of strings): The words belonging to set B\n",
        "    vectors (Python dict): {word (string): np-array of word vector}\n",
        "    \n",
        "    Returns: \n",
        "    score (float): the value of the group association strength  \n",
        "    '''\n",
        "    \n",
        "    score = 0.0\n",
        "    sum_X = 0.0\n",
        "    sum_Y = 0.0\n",
        "    \n",
        "    ## FILL CODE\n",
        "    for i in X:\n",
        "      sum_X += association_strength(i, A, B, vectors)\n",
        "    for j in Y:\n",
        "      sum_Y += association_strength(j, A, B, vectors)\n",
        "      \n",
        "    score = sum_X - sum_Y  \n",
        "\n",
        "    return score"
      ]
    },
    {
      "cell_type": "code",
      "execution_count": 18,
      "metadata": {
        "id": "7LcLTK8LQ6LB",
        "colab": {
          "base_uri": "https://localhost:8080/"
        },
        "outputId": "d4e77ed6-4664-413b-94d6-9bee96b8e1fd"
      },
      "outputs": [
        {
          "output_type": "stream",
          "name": "stdout",
          "text": [
            "\n",
            "Word embedding association test: 0.847\n"
          ]
        }
      ],
      "source": [
        "## Replicate one of the experiments from:\n",
        "##\n",
        "## Semantics derived automatically from language corpora contain human-like biases\n",
        "## Caliskan, Bryson, Narayanan (2017)\n",
        "\n",
        "career = ['executive', 'management', 'professional', 'corporation', \n",
        "          'salary', 'office', 'business', 'career']\n",
        "family = ['home', 'parents', 'children', 'family',\n",
        "          'cousins', 'marriage', 'wedding', 'relatives']\n",
        "male = ['john', 'paul', 'mike', 'kevin', 'steve', 'greg', 'jeff', 'bill']\n",
        "female = ['amy', 'joan', 'lisa', 'sarah', 'diana', 'kate', 'ann', 'donna']\n",
        "\n",
        "print('')\n",
        "print('Word embedding association test: %.3f' %\n",
        "      weat(career, family, male, female, word_vectors))"
      ]
    },
    {
      "cell_type": "markdown",
      "metadata": {
        "id": "r2Y8630-Q6LB"
      },
      "source": [
        "## Word translation using word vectors\n",
        "\n",
        "In the following, we will use word vectors in English and French to translate words from English to French. The idea is to learn a linear function that maps English word vectors to their correponding French word vectors. To learn this linear mapping, we will use a small bilingual lexicon, that contains pairs of words in English and French that are translations of each other.\n",
        "\n",
        "The following function will load the small English-French bilingual lexicon:"
      ]
    },
    {
      "cell_type": "code",
      "execution_count": 19,
      "metadata": {
        "id": "0zMaW_UHQ6LB"
      },
      "outputs": [],
      "source": [
        "def load_lexicon(filename):\n",
        "    '''\n",
        "    Parameters:\n",
        "    filename(string): the path of the lexicon\n",
        "    \n",
        "    Returns:\n",
        "    data(list of pairs of string): the bilingual lexicon\n",
        "    '''\n",
        "    fin = io.open(filename, 'r', encoding='utf-8', newline='\\n')\n",
        "    data = []\n",
        "    for line in fin:\n",
        "        a, b = line.rstrip().split(' ')\n",
        "        data.append((a, b))\n",
        "    return data"
      ]
    },
    {
      "cell_type": "code",
      "execution_count": 20,
      "metadata": {
        "id": "UevAj30sQ6LB",
        "colab": {
          "base_uri": "https://localhost:8080/"
        },
        "outputId": "e933d590-d1f6-4d16-e5ba-fed5fac4f746"
      },
      "outputs": [
        {
          "output_type": "stream",
          "name": "stdout",
          "text": [
            "[('the', 'le'), ('the', 'les'), ('the', 'la'), ('and', 'et'), ('was', 'fut')]\n"
          ]
        }
      ],
      "source": [
        "word_vectors_en = load_vectors('/content/drive/MyDrive/NLP/Week1/Session2/wiki.en.vec')\n",
        "word_vectors_fr = load_vectors('/content/drive/MyDrive/NLP/Week1/Session2/wiki.fr.vec')\n",
        "lexicon = load_lexicon(\"/content/drive/MyDrive/NLP/Week1/Session2/lexicon-en-fr.txt\")\n",
        "print(lexicon[:5])"
      ]
    },
    {
      "cell_type": "code",
      "execution_count": 21,
      "metadata": {
        "id": "W8UrYl2tQ6LB"
      },
      "outputs": [],
      "source": [
        "# We split the lexicon into a train and validation set\n",
        "train = lexicon[:5000]\n",
        "valid = lexicon[5000:5100]"
      ]
    },
    {
      "cell_type": "markdown",
      "metadata": {
        "id": "4etMj7GQQ6LB"
      },
      "source": [
        "The following function will learn the mapping from English to French. The idea is to build two matrices $X_{\\text{en}}$ and $X_{\\text{fr}}$, and to find a mapping $M$ that minimizes $||X_{\\text{en}} W - X_{\\text{fr}} ||_2$. In numpy, this mapping can be obtained by using the `numpy.linalg.lstsq` function."
      ]
    },
    {
      "cell_type": "code",
      "execution_count": 22,
      "metadata": {
        "id": "ZieyQx_CQ6LB"
      },
      "outputs": [],
      "source": [
        "def align(word_vectors_en, word_vectors_fr, lexicon):\n",
        "    '''\n",
        "    Parameters:\n",
        "    word_vectors_en(dict: string -> np.array): English word vectors\n",
        "    word_vectors_en(dict: string -> np.array): French word vectors\n",
        "    lexicon(list of pairs of string): bilingual training lexicon\n",
        "    \n",
        "    Returns\n",
        "    mapping(np.array): the mapping from English to French vectors\n",
        "    '''\n",
        "    x_en, x_fr = [], []\n",
        "    \n",
        "    ## FILL CODE\n",
        "    for en_word, fr_word in lexicon:\n",
        "      en_vec = word_vectors_en[en_word]\n",
        "      fr_vec = word_vectors_fr[fr_word]\n",
        "\n",
        "      #append\n",
        "      x_en.append(en_vec)\n",
        "      x_fr.append(fr_vec)\n",
        "\n",
        "    # X = np.vstack(x_en)\n",
        "    # Y = np.vstack(x_fr)\n",
        "    M = np.linalg.lstsq(x_en, x_fr)  \n",
        "\n",
        "    \n",
        "    return M[0]"
      ]
    },
    {
      "cell_type": "code",
      "execution_count": 23,
      "metadata": {
        "id": "yL58DGS3Q6LB",
        "colab": {
          "base_uri": "https://localhost:8080/"
        },
        "outputId": "4301d8d3-2a9d-4f5f-e849-6ae9d0de2607"
      },
      "outputs": [
        {
          "output_type": "stream",
          "name": "stderr",
          "text": [
            "/usr/local/lib/python3.7/dist-packages/ipykernel_launcher.py:24: FutureWarning: `rcond` parameter will change to the default of machine precision times ``max(M, N)`` where M and N are the input matrix dimensions.\n",
            "To use the future default and silence this warning we advise to pass `rcond=None`, to keep using the old, explicitly pass `rcond=-1`.\n"
          ]
        },
        {
          "output_type": "execute_result",
          "data": {
            "text/plain": [
              "array([[-0.06183285, -0.01071552,  0.00175985, ..., -0.01107046,\n",
              "         0.01629405, -0.01644996],\n",
              "       [-0.01655313, -0.02930488,  0.09810107, ..., -0.01744702,\n",
              "        -0.02848298,  0.02070179],\n",
              "       [-0.01970861, -0.0147154 ,  0.01231819, ...,  0.03036093,\n",
              "        -0.00209909, -0.00944313],\n",
              "       ...,\n",
              "       [ 0.0669847 ,  0.02351181,  0.02041902, ...,  0.00886501,\n",
              "         0.08635366,  0.00595836],\n",
              "       [ 0.01936122,  0.00552446,  0.01234669, ..., -0.00623332,\n",
              "        -0.05116348,  0.05634361],\n",
              "       [ 0.00530333, -0.03424679, -0.03369923, ..., -0.01344391,\n",
              "        -0.00051053, -0.00491391]])"
            ]
          },
          "metadata": {},
          "execution_count": 23
        }
      ],
      "source": [
        "mapping = align(word_vectors_en, word_vectors_fr, lexicon)\n",
        "mapping"
      ]
    },
    {
      "cell_type": "markdown",
      "metadata": {
        "id": "kJ600fbdQ6LB"
      },
      "source": [
        "Given a mapping, a set of word English word vector and French word vectors, the next function will translate the English word to French. To do so, we apply the mapping on the English word, and retrieve the nearest neighbor of the obtained vector in the set of French word vectors. The translation is then the corresponding French word."
      ]
    },
    {
      "cell_type": "code",
      "execution_count": 24,
      "metadata": {
        "id": "YUyqGPslQ6LB"
      },
      "outputs": [],
      "source": [
        "def translate(word, word_vectors_en, word_vectors_fr, mapping):\n",
        "    '''\n",
        "    Parameters:\n",
        "    word(string): an English word\n",
        "    word_vectors_en(dict: string -> np.array): English word vectors\n",
        "    word_vectors_en(dict: string -> np.array): French word vectors\n",
        "    mapping(np.array): the mapping from English to French vectors\n",
        "    \n",
        "    Returns\n",
        "    A string containing the translation of the English word\n",
        "    '''\n",
        "    \n",
        "    ## FILL CODE\n",
        "    eng_word = word_vectors_en[word]\n",
        "    pred = eng_word @ mapping\n",
        "    pred_NearestN_fr = knn(pred, word_vectors_fr, k=1)\n",
        "\n",
        "     \n",
        "\n",
        "    return pred_NearestN_fr[0][1]"
      ]
    },
    {
      "cell_type": "code",
      "execution_count": 28,
      "metadata": {
        "id": "t_wCt6fgQ6LB",
        "colab": {
          "base_uri": "https://localhost:8080/"
        },
        "outputId": "3dda211f-2e3c-4611-f347-b551a592be6f"
      },
      "outputs": [
        {
          "metadata": {
            "tags": null
          },
          "name": "stdout",
          "output_type": "stream",
          "text": [
            "monde\n",
            "machine\n",
            "apprentissage\n"
          ]
        }
      ],
      "source": [
        "print(translate(\"world\", word_vectors_en, word_vectors_fr, mapping))\n",
        "print(translate(\"machine\", word_vectors_en, word_vectors_fr, mapping))\n",
        "print(translate(\"learning\", word_vectors_en, word_vectors_fr, mapping))"
      ]
    },
    {
      "cell_type": "markdown",
      "metadata": {
        "id": "aunszEMuQ6LC"
      },
      "source": [
        "Finally, let's implement a function to evaluate this method on the validation lexicon:"
      ]
    },
    {
      "cell_type": "code",
      "execution_count": 33,
      "metadata": {
        "id": "5j6i-lkFQ6LC"
      },
      "outputs": [],
      "source": [
        "def evaluate(valid, word_vectors_en, word_vectors_fr, mapping):\n",
        "    '''\n",
        "    Parameters:\n",
        "    valid(a list of pairs of string): the validation lexicon\n",
        "    word_vectors_en(dict: string -> np.array): English word vectors\n",
        "    word_vectors_en(dict: string -> np.array): French word vectors\n",
        "    mapping(np.array): the mapping from English to French vectors\n",
        "    \n",
        "    Returns\n",
        "    Accuracy(float): the accuracy on the validation lexicon\n",
        "    '''\n",
        "    acc, n = 0.0, 0\n",
        "    \n",
        "    ## FILL CODE\n",
        "    for en_word, fr_word in valid:\n",
        "      eng_fr = translate(en_word, word_vectors_en, word_vectors_fr, mapping)\n",
        "      if eng_fr == fr_word:\n",
        "        acc += 1 \n",
        "      n +=1\n",
        "      \n",
        "    return (acc/n)*100"
      ]
    },
    {
      "cell_type": "code",
      "execution_count": 34,
      "metadata": {
        "id": "i0MDmZGjQ6LC",
        "colab": {
          "base_uri": "https://localhost:8080/"
        },
        "outputId": "50cd5986-8fb1-4cfe-8ed3-18304b161925"
      },
      "outputs": [
        {
          "output_type": "execute_result",
          "data": {
            "text/plain": [
              "64.0"
            ]
          },
          "metadata": {},
          "execution_count": 34
        }
      ],
      "source": [
        "evaluate(valid, word_vectors_en, word_vectors_fr, mapping)"
      ]
    },
    {
      "cell_type": "code",
      "execution_count": null,
      "metadata": {
        "id": "mWF9c-axQ6LC"
      },
      "outputs": [],
      "source": [
        ""
      ]
    }
  ],
  "metadata": {
    "kernelspec": {
      "display_name": "Python 3",
      "language": "python",
      "name": "python3"
    },
    "language_info": {
      "codemirror_mode": {
        "name": "ipython",
        "version": 3
      },
      "file_extension": ".py",
      "mimetype": "text/x-python",
      "name": "python",
      "nbconvert_exporter": "python",
      "pygments_lexer": "ipython3",
      "version": "3.6.2+"
    },
    "colab": {
      "name": "Annine_Duclaire_Kenne_intro_to_wordvectors.ipynb",
      "provenance": [],
      "collapsed_sections": [],
      "include_colab_link": true
    }
  },
  "nbformat": 4,
  "nbformat_minor": 0
}