{
  "cells": [
    {
      "cell_type": "markdown",
      "metadata": {
        "id": "_dBKs2ymY6E2"
      },
      "source": [
        "The goal of this lab is to implement a language identifier (LID).\n",
        "\n",
        "Our first model will be based on Naive Bayes."
      ]
    },
    {
      "cell_type": "code",
      "execution_count": 2,
      "metadata": {
        "id": "a02goS1HY6E5"
      },
      "outputs": [],
      "source": [
        "import io, sys, math, re\n",
        "from collections import defaultdict"
      ]
    },
    {
      "cell_type": "markdown",
      "metadata": {
        "id": "0hV6UP5IY6E6"
      },
      "source": [
        "The next function is used to load the data. Each line of the data consist of a label (corresponding to a language), followed by some text, written in that language. Here is an example of data:\n",
        "\n",
        "```__label__de Zur Namensdeutung gibt es mehrere Varianten.```\n"
      ]
    },
    {
      "cell_type": "code",
      "execution_count": 3,
      "metadata": {
        "id": "3HpwHAPUY6E6"
      },
      "outputs": [],
      "source": [
        "def load_data(filename):\n",
        "    fin = io.open(filename, 'r', encoding='utf-8')\n",
        "    data = []\n",
        "    for line in fin:\n",
        "        tokens = line.split()\n",
        "        data.append((tokens[0], tokens[1:]))\n",
        "    return data"
      ]
    },
    {
      "cell_type": "markdown",
      "metadata": {
        "id": "1AVMSB_SY6E7"
      },
      "source": [
        "You can now try loading the first dataset `train1.txt` and look what examples look like."
      ]
    },
    {
      "cell_type": "code",
      "execution_count": 4,
      "metadata": {
        "id": "zQfvR_qFY6E7",
        "colab": {
          "base_uri": "https://localhost:8080/"
        },
        "outputId": "f65a8ffa-7815-480b-92f6-290d8bfdab14"
      },
      "outputs": [
        {
          "output_type": "stream",
          "name": "stdout",
          "text": [
            "('__label__deu', ['Ich', 'würde', 'alles', 'tun,', 'um', 'dich', 'zu', 'beschützen.'])\n"
          ]
        }
      ],
      "source": [
        "data = load_data(\"/content/drive/MyDrive/NLP/Week1/session1/train1.txt\")\n",
        "print(data[0])"
      ]
    },
    {
      "cell_type": "markdown",
      "metadata": {
        "id": "Q_ZyJ-KTY6E7"
      },
      "source": [
        "Next, we will start implementing the Naive Bayes method. This technique is based on word counts, and we thus need to start by implementing a function to count the words and labels of our training set.\n",
        "\n",
        "`n_examples` is the total number of examples\n",
        "\n",
        "`n_words_per_label` is the total number of words for a given label\n",
        "\n",
        "`label_counts` is the number of times a given label appears in the training data\n",
        "\n",
        "`word_counts` is the number of times a word appears with a given label"
      ]
    },
    {
      "cell_type": "code",
      "source": [
        "from google.colab import drive\n",
        "drive.mount('/content/drive')"
      ],
      "metadata": {
        "colab": {
          "base_uri": "https://localhost:8080/"
        },
        "id": "iRdTZSVIiVFt",
        "outputId": "8097c4f9-9f28-48ff-db70-ec80c424d6cc"
      },
      "execution_count": 5,
      "outputs": [
        {
          "output_type": "stream",
          "name": "stdout",
          "text": [
            "Drive already mounted at /content/drive; to attempt to forcibly remount, call drive.mount(\"/content/drive\", force_remount=True).\n"
          ]
        }
      ]
    },
    {
      "cell_type": "code",
      "execution_count": 6,
      "metadata": {
        "id": "xRKCn8P7Y6E8"
      },
      "outputs": [],
      "source": [
        "def count_words(data):\n",
        "    n_examples = 0\n",
        "    n_words_per_label = defaultdict(lambda: 0)\n",
        "    label_counts = defaultdict(lambda: 0)\n",
        "    word_counts = defaultdict(lambda: defaultdict(lambda: 0.0))\n",
        "\n",
        "    n_examples = len(data)\n",
        "\n",
        "    for example in data:\n",
        "        label, sentence = example\n",
        "        ## FILL CODE\n",
        "        label_counts[label] = label_counts[label] + 1\n",
        "        for word in sentence:\n",
        "          word_counts[label][word] = word_counts[label][word] + 1\n",
        "          n_words_per_label[label] = n_words_per_label[label] +1\n",
        "\n",
        "\n",
        "    return {'label_counts': label_counts, \n",
        "            'word_counts': word_counts, \n",
        "            'n_examples': n_examples, \n",
        "            'n_words_per_label': n_words_per_label}"
      ]
    },
    {
      "cell_type": "code",
      "source": [
        "all_count = count_words(data)\n",
        "all_count['label_counts']"
      ],
      "metadata": {
        "colab": {
          "base_uri": "https://localhost:8080/"
        },
        "id": "bxAv6CTJn91L",
        "outputId": "5e877a1e-3a69-4c71-a477-6bc28f83606a"
      },
      "execution_count": 7,
      "outputs": [
        {
          "output_type": "execute_result",
          "data": {
            "text/plain": [
              "defaultdict(<function __main__.count_words.<locals>.<lambda>>,\n",
              "            {'__label__deu': 828,\n",
              "             '__label__eng': 2137,\n",
              "             '__label__epo': 1020,\n",
              "             '__label__fra': 650,\n",
              "             '__label__hun': 432,\n",
              "             '__label__ita': 1327,\n",
              "             '__label__por': 578,\n",
              "             '__label__rus': 1271,\n",
              "             '__label__spa': 564,\n",
              "             '__label__tur': 1193})"
            ]
          },
          "metadata": {},
          "execution_count": 7
        }
      ]
    },
    {
      "cell_type": "code",
      "source": [
        "all_count['n_examples']"
      ],
      "metadata": {
        "colab": {
          "base_uri": "https://localhost:8080/"
        },
        "id": "39VnEZbZp0Dj",
        "outputId": "9b109aca-39fc-4584-fa11-2dc1dde37e7f"
      },
      "execution_count": 8,
      "outputs": [
        {
          "output_type": "execute_result",
          "data": {
            "text/plain": [
              "10000"
            ]
          },
          "metadata": {},
          "execution_count": 8
        }
      ]
    },
    {
      "cell_type": "code",
      "source": [
        "word_counts = all_count['word_counts']\n",
        "# word_counts"
      ],
      "metadata": {
        "id": "RxC0_X7aqv4E"
      },
      "execution_count": 9,
      "outputs": []
    },
    {
      "cell_type": "code",
      "source": [
        "word_counts.keys()"
      ],
      "metadata": {
        "colab": {
          "base_uri": "https://localhost:8080/"
        },
        "id": "4o4Hay8zxhJ1",
        "outputId": "5a53306c-e746-4730-ed71-60186cc7c1b2"
      },
      "execution_count": 10,
      "outputs": [
        {
          "output_type": "execute_result",
          "data": {
            "text/plain": [
              "dict_keys(['__label__deu', '__label__hun', '__label__rus', '__label__ita', '__label__eng', '__label__spa', '__label__tur', '__label__epo', '__label__por', '__label__fra'])"
            ]
          },
          "metadata": {},
          "execution_count": 10
        }
      ]
    },
    {
      "cell_type": "code",
      "source": [
        "all_count['n_words_per_label']"
      ],
      "metadata": {
        "colab": {
          "base_uri": "https://localhost:8080/"
        },
        "id": "JHiEl_QqC83e",
        "outputId": "12a7f918-02bc-40cc-e9bb-21def39ba4ae"
      },
      "execution_count": 11,
      "outputs": [
        {
          "output_type": "execute_result",
          "data": {
            "text/plain": [
              "defaultdict(<function __main__.count_words.<locals>.<lambda>>,\n",
              "            {'__label__deu': 6630,\n",
              "             '__label__eng': 16444,\n",
              "             '__label__epo': 7647,\n",
              "             '__label__fra': 4718,\n",
              "             '__label__hun': 2271,\n",
              "             '__label__ita': 7759,\n",
              "             '__label__por': 4044,\n",
              "             '__label__rus': 7387,\n",
              "             '__label__spa': 3927,\n",
              "             '__label__tur': 6026})"
            ]
          },
          "metadata": {},
          "execution_count": 11
        }
      ]
    },
    {
      "cell_type": "markdown",
      "metadata": {
        "id": "WCNwoQO_Y6E9"
      },
      "source": [
        "Next, using the word and label counts from the previous function, we can implement the prediction function.\n",
        "\n",
        "Here, `mu` is a regularization parameter (Laplace smoothing), and `sentence` is the list of words corresponding to the test example."
      ]
    },
    {
      "cell_type": "markdown",
      "source": [
        "\n",
        "$p_{j,k} = \\frac{α + C(j,k)}{αV + \\sum_{j'}C(j',k)}$\n",
        "\n",
        "$α =μ$"
      ],
      "metadata": {
        "id": "QNeNaDZooOjV"
      }
    },
    {
      "cell_type": "code",
      "source": [
        "import numpy as np\n",
        "def predict(sentence, mu, label_counts, word_counts, n_examples, n_words_per_label):\n",
        "    best_label = None\n",
        "    best_score = float('-inf')\n",
        "\n",
        "    # prior = defaultdict(lambda: 0)\n",
        "    # p = defaultdict(lambda: defaultdict(lambda: 0.0))\n",
        "\n",
        "    for label in word_counts.keys():\n",
        "        score = 0.0\n",
        "        ## FILE CODE\n",
        "        for word in sentence:\n",
        "          a = word_counts[label][word]\n",
        "          # print('aaaaaaa:',a)\n",
        "          b = n_words_per_label[label]\n",
        "          # print('bbbbbb:',b)\n",
        "          total_Wcount = len(word_counts[label])  # length of the vocabulary\n",
        "\n",
        "          p = np.log( (a + mu) /( b + mu*total_Wcount) )\n",
        "          score += p \n",
        "          \n",
        "        if score>best_score:\n",
        "          best_score = score\n",
        "          best_label = label\n",
        "         \n",
        "\n",
        "    return best_score,best_label"
      ],
      "metadata": {
        "id": "Am4TKwpzFb72"
      },
      "execution_count": 13,
      "outputs": []
    },
    {
      "cell_type": "markdown",
      "metadata": {
        "id": "AXrruD9uY6E-"
      },
      "source": [
        "The next function will be used to evaluate the Naive Bayes model on a validation set. It computes the accuracy for a particular regularization parameter `mu`."
      ]
    },
    {
      "cell_type": "markdown",
      "source": [
        "$accuracy = \\frac{1}{n}\\sum_{i}^{n}1({\\hat{y_i} - y_i}) = \\frac{correct Predictions}{text Examples}$ \n",
        "          "
      ],
      "metadata": {
        "id": "YeN0jQ8yqWMs"
      }
    },
    {
      "cell_type": "code",
      "execution_count": 14,
      "metadata": {
        "id": "Irla0E0nY6E-"
      },
      "outputs": [],
      "source": [
        "def compute_accuracy(valid_data, mu, counts):\n",
        "  accuracy = 0.0\n",
        "  for label, sentence in valid_data:\n",
        "\n",
        "    ## FILL CODE\n",
        "    score,pred = predict(sentence, mu, counts['label_counts'],counts['word_counts'], counts['n_examples'], counts['n_words_per_label'])\n",
        "    #print(pred,label)\n",
        "    if pred==label:\n",
        "      accuracy += 1.0\n",
        "     \n",
        "  return (accuracy/len(valid_data))*100"
      ]
    },
    {
      "cell_type": "code",
      "execution_count": 15,
      "metadata": {
        "id": "kTEFfSU7Y6E-",
        "colab": {
          "base_uri": "https://localhost:8080/"
        },
        "outputId": "7660eabb-6b9d-4d44-d6a5-b622aaf76b92"
      },
      "outputs": [
        {
          "output_type": "stream",
          "name": "stdout",
          "text": [
            "\n",
            "** Naive Bayes **\n",
            "\n",
            "Validation accuracy: 91.500\n",
            "\n"
          ]
        }
      ],
      "source": [
        "print(\"\")\n",
        "print(\"** Naive Bayes **\")\n",
        "print(\"\")\n",
        "\n",
        "mu = 1.0\n",
        "train_data = load_data(\"/content/drive/MyDrive/NLP/Week1/session1/train1.txt\")\n",
        "valid_data = load_data(\"/content/drive/MyDrive/NLP/Week1/session1/valid1.txt\")\n",
        "counts = count_words(train_data)\n",
        "\n",
        "print(\"Validation accuracy: %.3f\" % compute_accuracy(valid_data, mu, counts))\n",
        "print(\"\")"
      ]
    },
    {
      "cell_type": "code",
      "execution_count": 15,
      "metadata": {
        "id": "Df7ql-RQY6E_"
      },
      "outputs": [],
      "source": [
        ""
      ]
    }
  ],
  "metadata": {
    "kernelspec": {
      "display_name": "Python 3",
      "language": "python",
      "name": "python3"
    },
    "language_info": {
      "codemirror_mode": {
        "name": "ipython",
        "version": 3
      },
      "file_extension": ".py",
      "mimetype": "text/x-python",
      "name": "python",
      "nbconvert_exporter": "python",
      "pygments_lexer": "ipython3",
      "version": "3.6.2+"
    },
    "colab": {
      "name": "naive_bayes_Annine_Duclaire_Kenne.ipynb",
      "provenance": [],
      "collapsed_sections": []
    }
  },
  "nbformat": 4,
  "nbformat_minor": 0
}